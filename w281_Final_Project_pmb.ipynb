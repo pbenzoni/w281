{
 "cells": [
  {
   "cell_type": "markdown",
   "metadata": {},
   "source": [
    "# W281 Final Project: Intel Image Classification Model #"
   ]
  },
  {
   "cell_type": "code",
   "execution_count": 1,
   "metadata": {},
   "outputs": [],
   "source": [
    "import numpy as np\n",
    "import pandas as pd\n",
    "import os\n",
    "import warnings\n",
    "import tensorflow as tf\n",
    "import matplotlib.pyplot as plt\n",
    "import seaborn as sns\n",
    "import warnings\n",
    "from collections import Counter\n",
    "import gc\n",
    "import time\n",
    "\n",
    "from PIL import Image\n",
    "from tqdm import tqdm\n",
    "from tensorflow.keras.models import Sequential\n",
    "from tensorflow.keras.layers import Dense, Conv2D, MaxPool2D, Flatten, Dropout,BatchNormalization,MaxPooling2D, GlobalAveragePooling2D\n",
    "from tensorflow.keras.optimizers import Adam\n",
    "from tensorflow.keras.applications import ResNet50\n",
    "from tensorflow.keras.layers import Dense, Flatten, Input\n",
    "from tensorflow.keras.models import Model, Sequential\n",
    "from sklearn.ensemble import RandomForestClassifier\n",
    "from sklearn.metrics import classification_report, accuracy_score, confusion_matrix, roc_curve, auc\n",
    "from sklearn.model_selection import train_test_split\n",
    "from sklearn.preprocessing import LabelEncoder\n",
    "from sklearn.model_selection import GridSearchCV, train_test_split\n",
    "from sklearn.preprocessing import StandardScaler\n",
    "from sklearn.decomposition import PCA, IncrementalPCA\n",
    "from sklearn.pipeline import Pipeline\n",
    "from sklearn.svm import SVC, LinearSVC\n",
    "from sklearn.neural_network import MLPClassifier\n",
    "from sklearn.linear_model import LogisticRegression\n",
    "\n",
    "from skimage.feature import hog\n",
    "from skimage.color import rgb2gray, rgb2hsv\n",
    "\n",
    "\n",
    "from sklearn.utils import shuffle\n",
    "from tensorflow.keras.preprocessing.image import ImageDataGenerator"
   ]
  },
  {
   "cell_type": "code",
   "execution_count": 2,
   "metadata": {},
   "outputs": [],
   "source": [
    "# def load_images(directory, num_files=5):\n",
    "#     images = []\n",
    "#     file_list = os.listdir(directory)[:num_files]  # Load only the first 5 files\n",
    "\n",
    "#     for filename in tqdm(file_list, desc=f\"Loading images from {directory}\"):\n",
    "#         img_path = os.path.join(directory, filename)\n",
    "#         img = Image.open(img_path)\n",
    "#         img = img.resize((150, 150))  # Resize image to 150 x 150\n",
    "#         images.append(img)\n",
    "\n",
    "#     return images"
   ]
  },
  {
   "cell_type": "code",
   "execution_count": 3,
   "metadata": {},
   "outputs": [],
   "source": [
    "# # Image Paths\n",
    "\n",
    "# buildings_train = './seg_train/buildings'\n",
    "# forest_train = './seg_train/forest'\n",
    "# glacier_train = './seg_train/glacier'\n",
    "# mountain_train = './seg_train/mountain'\n",
    "# sea_train = './seg_train/sea'\n",
    "# street_train = './seg_train/street'\n",
    "\n",
    "# buildings_test = './seg_test/buildings'\n",
    "# forest_test = './seg_test/forest'\n",
    "# glacier_test = './seg_test/glacier'\n",
    "# mountain_test = './seg_test/mountain'\n",
    "# sea_test = './seg_test/sea'\n",
    "# street_test = './seg_test/street'"
   ]
  },
  {
   "cell_type": "code",
   "execution_count": 4,
   "metadata": {},
   "outputs": [],
   "source": [
    "# # Load images from each category\n",
    "# buildings_img = load_images(buildings_train)\n",
    "# forest_img = load_images(forest_train)\n",
    "# glacier_img = load_images(glacier_train)\n",
    "# mountain_img = load_images(mountain_train)\n",
    "# sea_img = load_images(sea_train)\n",
    "# street_img = load_images(street_train)"
   ]
  },
  {
   "cell_type": "code",
   "execution_count": 5,
   "metadata": {},
   "outputs": [],
   "source": [
    "# buildings_img"
   ]
  },
  {
   "cell_type": "markdown",
   "metadata": {},
   "source": [
    "## Load Data ##"
   ]
  },
  {
   "cell_type": "code",
   "execution_count": 6,
   "metadata": {},
   "outputs": [],
   "source": [
    "def load_data(datasets):\n",
    "    \n",
    "    output = []\n",
    "\n",
    "    for dataset in datasets:\n",
    "        images, labels = [], []\n",
    "        print(f\"Loading {dataset}...\")\n",
    "        i = 0\n",
    "        for folder in os.listdir(dataset):\n",
    "            label = i # Converting word labels to int (i.e. buildings = 0)\n",
    "            i = i+1\n",
    "            folder_path = os.path.join(dataset, folder)\n",
    "\n",
    "            for file in tqdm(os.listdir(folder_path), desc=f\"Processing {folder}\"):\n",
    "                img_path = os.path.join(folder_path, file)\n",
    "\n",
    "                image = Image.open(img_path).resize((150, 150))\n",
    "                images.append(image)\n",
    "                labels.append(label)\n",
    "                \n",
    "        images = np.stack(images)\n",
    "        labels = np.array(labels, dtype='int32')\n",
    "        output.append((images, labels))\n",
    "        \n",
    "    return output"
   ]
  },
  {
   "cell_type": "code",
   "execution_count": 7,
   "metadata": {},
   "outputs": [],
   "source": [
    "# datasets = [\"C:\\w281\\w281_Fall2024_FinalProject_Brown_Benzoni_Olaya/seg_train\", \n",
    "#         \"C:\\w281\\w281_Fall2024_FinalProject_Brown_Benzoni_Olaya/seg_test\"]\n",
    "\n",
    "datasets = [\"C:\\\\Users\\\\benzo\\\\repo\\\\w281\\\\w281_Fall2024_FinalProject_Brown_Benzoni_Olaya\\\\seg_train\",\n",
    "            \"C:\\\\Users\\\\benzo\\\\repo\\\\w281\\\\w281_Fall2024_FinalProject_Brown_Benzoni_Olaya\\\\seg_test\"]\n",
    "\n",
    "# datasets = [\"/Users/zdbrown13/w281/w281_Final_Project_Brown_Benzoni_Olaya/seg_train\", \n",
    "#         \"/Users/zdbrown13/w281/w281_Final_Project_Brown_Benzoni_Olaya/seg_test\"]\n",
    "\n",
    "train_path, test_path = datasets"
   ]
  },
  {
   "cell_type": "code",
   "execution_count": 8,
   "metadata": {},
   "outputs": [
    {
     "name": "stdout",
     "output_type": "stream",
     "text": [
      "Loading C:\\Users\\benzo\\repo\\w281\\w281_Fall2024_FinalProject_Brown_Benzoni_Olaya\\seg_train...\n"
     ]
    },
    {
     "name": "stderr",
     "output_type": "stream",
     "text": [
      "Processing buildings: 100%|██████████| 2191/2191 [00:01<00:00, 1261.11it/s]\n",
      "Processing forest: 100%|██████████| 2271/2271 [00:01<00:00, 1225.55it/s]\n",
      "Processing glacier: 100%|██████████| 2404/2404 [00:01<00:00, 1408.76it/s]\n",
      "Processing mountain: 100%|██████████| 2512/2512 [00:01<00:00, 1433.53it/s]\n",
      "Processing sea: 100%|██████████| 2274/2274 [00:01<00:00, 1363.65it/s]\n",
      "Processing street: 100%|██████████| 2382/2382 [00:01<00:00, 1395.83it/s]\n"
     ]
    },
    {
     "name": "stdout",
     "output_type": "stream",
     "text": [
      "Loading C:\\Users\\benzo\\repo\\w281\\w281_Fall2024_FinalProject_Brown_Benzoni_Olaya\\seg_test...\n"
     ]
    },
    {
     "name": "stderr",
     "output_type": "stream",
     "text": [
      "Processing buildings: 100%|██████████| 437/437 [00:00<00:00, 1339.92it/s]\n",
      "Processing forest: 100%|██████████| 474/474 [00:00<00:00, 1406.13it/s]\n",
      "Processing glacier: 100%|██████████| 553/553 [00:00<00:00, 1470.86it/s]\n",
      "Processing mountain: 100%|██████████| 525/525 [00:00<00:00, 1499.72it/s]\n",
      "Processing sea: 100%|██████████| 510/510 [00:00<00:00, 1508.57it/s]\n",
      "Processing street: 100%|██████████| 501/501 [00:00<00:00, 1451.85it/s]\n"
     ]
    }
   ],
   "source": [
    "\n",
    "\n",
    "(train_images, train_labels), (test_images, test_labels) = load_data(datasets)\n"
   ]
  },
  {
   "cell_type": "code",
   "execution_count": 9,
   "metadata": {},
   "outputs": [
    {
     "data": {
      "text/plain": [
       "(14034, 150, 150, 3)"
      ]
     },
     "execution_count": 9,
     "metadata": {},
     "output_type": "execute_result"
    }
   ],
   "source": [
    "train_images.shape"
   ]
  },
  {
   "cell_type": "code",
   "execution_count": 10,
   "metadata": {},
   "outputs": [],
   "source": [
    "# Normalization\n",
    "train_images = train_images / 255.0 \n",
    "test_images = test_images / 255.0"
   ]
  },
  {
   "cell_type": "code",
   "execution_count": 11,
   "metadata": {},
   "outputs": [
    {
     "name": "stdout",
     "output_type": "stream",
     "text": [
      "{0: 2191, 1: 2271, 2: 2404, 3: 2512, 4: 2274, 5: 2382}\n"
     ]
    }
   ],
   "source": [
    "# Training Data Distribution\n",
    "unique, counts = np.unique(train_labels, return_counts=True)\n",
    "print(dict(zip(unique, counts)))"
   ]
  },
  {
   "cell_type": "code",
   "execution_count": 12,
   "metadata": {},
   "outputs": [
    {
     "name": "stdout",
     "output_type": "stream",
     "text": [
      "2339.0\n"
     ]
    }
   ],
   "source": [
    "avg = sum(counts)/len(unique)\n",
    "print(avg)"
   ]
  },
  {
   "cell_type": "code",
   "execution_count": 13,
   "metadata": {},
   "outputs": [
    {
     "name": "stdout",
     "output_type": "stream",
     "text": [
      "{0: 437, 1: 474, 2: 553, 3: 525, 4: 510, 5: 501}\n"
     ]
    }
   ],
   "source": [
    "# Test Data Distribution\n",
    "test_unique, test_counts = np.unique(test_labels, return_counts=True)\n",
    "print(dict(zip(test_unique, test_counts)))"
   ]
  },
  {
   "cell_type": "code",
   "execution_count": 14,
   "metadata": {},
   "outputs": [
    {
     "name": "stdout",
     "output_type": "stream",
     "text": [
      "500.0\n"
     ]
    }
   ],
   "source": [
    "test_avg = sum(test_counts)/len(test_unique)\n",
    "print(test_avg)"
   ]
  },
  {
   "cell_type": "markdown",
   "metadata": {},
   "source": [
    "# Feature Extraction Methods\n"
   ]
  },
  {
   "cell_type": "code",
   "execution_count": 15,
   "metadata": {},
   "outputs": [],
   "source": [
    "# Function to extract HOG features\n",
    "def extract_hog_features(images):\n",
    "    hog_features = []\n",
    "    for img in tqdm(images, desc=\"Extracting HOG features\"):\n",
    "        img_gray = rgb2gray(img)\n",
    "        features = hog(img_gray, pixels_per_cell=(8, 8),\n",
    "                       cells_per_block=(2, 2), orientations=9, block_norm='L2-Hys')\n",
    "        hog_features.append(features)\n",
    "    return np.array(hog_features)\n",
    "\n",
    "# Function to extract HSV histogram features\n",
    "def extract_hsv_features(images):\n",
    "    hsv_features = []\n",
    "    for img in tqdm(images, desc=\"Extracting HSV features\"):\n",
    "        img_hsv = rgb2hsv(img)\n",
    "        h_hist, _ = np.histogram(img_hsv[:, :, 0], bins=50, range=(0, 1))\n",
    "        s_hist, _ = np.histogram(img_hsv[:, :, 1], bins=50, range=(0, 1))\n",
    "        v_hist, _ = np.histogram(img_hsv[:, :, 2], bins=50, range=(0, 1))\n",
    "        features = np.concatenate([h_hist, s_hist, v_hist])\n",
    "        hsv_features.append(features)\n",
    "    return np.array(hsv_features)\n",
    "\n",
    "# Function to extract features using ResNet50\n",
    "def extract_resnet_features(images):\n",
    "    base_model = ResNet50(weights='imagenet', include_top=False, pooling='avg', input_shape=(150, 150, 3))\n",
    "    model = Model(inputs=base_model.input, outputs=base_model.output)\n",
    "    features = model.predict(images, batch_size=32, verbose=1)\n",
    "    return features"
   ]
  },
  {
   "cell_type": "code",
   "execution_count": 16,
   "metadata": {},
   "outputs": [],
   "source": [
    "# Prepare a function to process features, apply PCA, and scale\n",
    "def process_features(train_feat, test_feat, n_components=100):\n",
    "    scaler = StandardScaler()\n",
    "    pca = PCA(n_components=n_components)\n",
    "\n",
    "    # Scale features\n",
    "    train_feat_scaled = scaler.fit_transform(train_feat)\n",
    "    test_feat_scaled = scaler.transform(test_feat)\n",
    "\n",
    "    # Apply PCA\n",
    "    train_feat_pca = pca.fit_transform(train_feat_scaled)\n",
    "    test_feat_pca = pca.transform(test_feat_scaled)\n",
    "\n",
    "    return train_feat_pca, test_feat_pca"
   ]
  },
  {
   "cell_type": "markdown",
   "metadata": {},
   "source": [
    "## Classifier Evaluator "
   ]
  },
  {
   "cell_type": "code",
   "execution_count": 17,
   "metadata": {},
   "outputs": [],
   "source": [
    "# Prepare a function to train classifiers and record accuracy and inference time\n",
    "def evaluate_classifier(X_train, X_test, y_train, y_test, classifier_name, feature_name):\n",
    "    results = {}\n",
    "\n",
    "    classifiers = {\n",
    "        'LogisticRegression': LogisticRegression(max_iter=1000),\n",
    "        'SVM': SVC(probability=True)\n",
    "    }\n",
    "\n",
    "    clf = classifiers[classifier_name]\n",
    "\n",
    "    # Measure training time\n",
    "    start_time = time.time()\n",
    "    clf.fit(X_train, y_train)\n",
    "    train_time = time.time() - start_time\n",
    "\n",
    "    # Measure inference time\n",
    "    start_time = time.time()\n",
    "    y_pred = clf.predict(X_test)\n",
    "    inference_time = time.time() - start_time\n",
    "\n",
    "    # Calculate accuracy\n",
    "    accuracy = accuracy_score(y_test, y_pred)\n",
    "\n",
    "    # Store results\n",
    "    results['Feature'] = feature_name\n",
    "    results['Classifier'] = classifier_name\n",
    "    results['Accuracy'] = accuracy\n",
    "    results['Train Time'] = train_time\n",
    "    results['Inference Time'] = inference_time\n",
    "\n",
    "    print(f\"Feature: {feature_name}, Classifier: {classifier_name}, Accuracy: {accuracy:.4f}, \"\n",
    "          f\"Train Time: {train_time:.2f}s, Inference Time: {inference_time:.2f}s\")\n",
    "\n",
    "    return results"
   ]
  },
  {
   "cell_type": "markdown",
   "metadata": {},
   "source": [
    "# Train and test classifiers"
   ]
  },
  {
   "cell_type": "code",
   "execution_count": 18,
   "metadata": {},
   "outputs": [
    {
     "name": "stdout",
     "output_type": "stream",
     "text": [
      "\n",
      "--- Extracting HOG Features ---\n"
     ]
    },
    {
     "name": "stderr",
     "output_type": "stream",
     "text": [
      "Extracting HOG features: 100%|██████████| 14034/14034 [01:49<00:00, 128.73it/s]\n",
      "Extracting HOG features: 100%|██████████| 3000/3000 [00:23<00:00, 128.37it/s]\n"
     ]
    },
    {
     "name": "stdout",
     "output_type": "stream",
     "text": [
      "\n",
      "--- Extracting HSV Features ---\n"
     ]
    },
    {
     "name": "stderr",
     "output_type": "stream",
     "text": [
      "Extracting HSV features: 100%|██████████| 14034/14034 [01:02<00:00, 223.32it/s]\n",
      "Extracting HSV features: 100%|██████████| 3000/3000 [00:13<00:00, 224.95it/s]\n"
     ]
    },
    {
     "name": "stdout",
     "output_type": "stream",
     "text": [
      "\n",
      "--- Extracting ResNet Features ---\n",
      "\u001b[1m439/439\u001b[0m \u001b[32m━━━━━━━━━━━━━━━━━━━━\u001b[0m\u001b[37m\u001b[0m \u001b[1m199s\u001b[0m 450ms/step\n",
      "\u001b[1m94/94\u001b[0m \u001b[32m━━━━━━━━━━━━━━━━━━━━\u001b[0m\u001b[37m\u001b[0m \u001b[1m45s\u001b[0m 459ms/step\n",
      "\n",
      "--- Processing HOG Features ---\n",
      "\n",
      "--- Processing HSV Features ---\n",
      "\n",
      "--- Processing ResNet Features ---\n"
     ]
    }
   ],
   "source": [
    "# Extract features\n",
    "print(\"\\n--- Extracting HOG Features ---\")\n",
    "train_hog = extract_hog_features(train_images)\n",
    "test_hog = extract_hog_features(test_images)\n",
    "\n",
    "print(\"\\n--- Extracting HSV Features ---\")\n",
    "train_hsv = extract_hsv_features(train_images)\n",
    "test_hsv = extract_hsv_features(test_images)\n",
    "\n",
    "print(\"\\n--- Extracting ResNet Features ---\")\n",
    "train_resnet = extract_resnet_features(train_images)\n",
    "test_resnet = extract_resnet_features(test_images)\n",
    "\n",
    "# Reduce dataset size if necessary (optional)\n",
    "# To reduce computation time, you can sample a subset of data\n",
    "# For example, use 2000 samples\n",
    "sample_size = 2000\n",
    "train_indices = np.random.choice(len(train_hog), sample_size, replace=False)\n",
    "test_indices = np.random.choice(len(test_hog), int(sample_size * 0.2), replace=False)\n",
    "\n",
    "train_hog_sample = train_hog[train_indices]\n",
    "test_hog_sample = test_hog[test_indices]\n",
    "train_hsv_sample = train_hsv[train_indices]\n",
    "test_hsv_sample = test_hsv[test_indices]\n",
    "train_resnet_sample = train_resnet[train_indices]\n",
    "test_resnet_sample = test_resnet[test_indices]\n",
    "train_labels_sample = train_labels[train_indices]\n",
    "test_labels_sample = test_labels[test_indices]\n",
    "\n",
    "# Process features: apply PCA and scaling\n",
    "print(\"\\n--- Processing HOG Features ---\")\n",
    "train_hog_pca, test_hog_pca = process_features(train_hog_sample, test_hog_sample, n_components=100)\n",
    "\n",
    "print(\"\\n--- Processing HSV Features ---\")\n",
    "train_hsv_pca, test_hsv_pca = process_features(train_hsv_sample, test_hsv_sample, n_components=50)\n",
    "\n",
    "print(\"\\n--- Processing ResNet Features ---\")\n",
    "# ResNet features are already of lower dimension, you may skip PCA or apply minimal reduction\n",
    "train_resnet_pca, test_resnet_pca = process_features(train_resnet_sample, test_resnet_sample, n_components=128)\n",
    "\n",
    "# Prepare label encodings\n",
    "y_train = train_labels_sample\n",
    "y_test = test_labels_sample\n"
   ]
  },
  {
   "cell_type": "code",
   "execution_count": 19,
   "metadata": {},
   "outputs": [
    {
     "name": "stdout",
     "output_type": "stream",
     "text": [
      "\n",
      "--- Evaluating on HOG Features ---\n",
      "Feature: HOG, Classifier: LogisticRegression, Accuracy: 0.6525, Train Time: 0.68s, Inference Time: 0.00s\n"
     ]
    },
    {
     "name": "stderr",
     "output_type": "stream",
     "text": [
      "C:\\Users\\benzo\\AppData\\Local\\Temp\\ipykernel_5140\\1669950379.py:8: FutureWarning: The frame.append method is deprecated and will be removed from pandas in a future version. Use pandas.concat instead.\n",
      "  results_df = results_df.append(result, ignore_index=True)\n"
     ]
    },
    {
     "name": "stdout",
     "output_type": "stream",
     "text": [
      "Feature: HOG, Classifier: SVM, Accuracy: 0.7175, Train Time: 1.15s, Inference Time: 0.09s\n",
      "\n",
      "--- Evaluating on HSV Features ---\n",
      "Feature: HSV, Classifier: LogisticRegression, Accuracy: 0.4775, Train Time: 0.06s, Inference Time: 0.00s\n"
     ]
    },
    {
     "name": "stderr",
     "output_type": "stream",
     "text": [
      "C:\\Users\\benzo\\AppData\\Local\\Temp\\ipykernel_5140\\1669950379.py:8: FutureWarning: The frame.append method is deprecated and will be removed from pandas in a future version. Use pandas.concat instead.\n",
      "  results_df = results_df.append(result, ignore_index=True)\n",
      "C:\\Users\\benzo\\AppData\\Local\\Temp\\ipykernel_5140\\1669950379.py:14: FutureWarning: The frame.append method is deprecated and will be removed from pandas in a future version. Use pandas.concat instead.\n",
      "  results_df = results_df.append(result, ignore_index=True)\n"
     ]
    },
    {
     "name": "stdout",
     "output_type": "stream",
     "text": [
      "Feature: HSV, Classifier: SVM, Accuracy: 0.5150, Train Time: 1.28s, Inference Time: 0.09s\n",
      "\n",
      "--- Evaluating on ResNet Features ---\n"
     ]
    },
    {
     "name": "stderr",
     "output_type": "stream",
     "text": [
      "C:\\Users\\benzo\\AppData\\Local\\Temp\\ipykernel_5140\\1669950379.py:14: FutureWarning: The frame.append method is deprecated and will be removed from pandas in a future version. Use pandas.concat instead.\n",
      "  results_df = results_df.append(result, ignore_index=True)\n"
     ]
    },
    {
     "name": "stdout",
     "output_type": "stream",
     "text": [
      "Feature: ResNet, Classifier: LogisticRegression, Accuracy: 0.6775, Train Time: 0.47s, Inference Time: 0.00s\n"
     ]
    },
    {
     "name": "stderr",
     "output_type": "stream",
     "text": [
      "C:\\Users\\benzo\\AppData\\Local\\Temp\\ipykernel_5140\\1669950379.py:20: FutureWarning: The frame.append method is deprecated and will be removed from pandas in a future version. Use pandas.concat instead.\n",
      "  results_df = results_df.append(result, ignore_index=True)\n"
     ]
    },
    {
     "name": "stdout",
     "output_type": "stream",
     "text": [
      "Feature: ResNet, Classifier: SVM, Accuracy: 0.6350, Train Time: 1.23s, Inference Time: 0.11s\n",
      "\n",
      "--- Summary of Results ---\n",
      "  Feature          Classifier  Accuracy  Train Time  Inference Time\n",
      "0     HOG  LogisticRegression    0.6525    0.675167        0.000000\n",
      "1     HOG                 SVM    0.7175    1.145964        0.094747\n",
      "2     HSV  LogisticRegression    0.4775    0.059840        0.000997\n",
      "3     HSV                 SVM    0.5150    1.277612        0.088735\n",
      "4  ResNet  LogisticRegression    0.6775    0.466722        0.000998\n",
      "5  ResNet                 SVM    0.6350    1.231723        0.108722\n",
      "\n",
      "Best Performing Configuration:\n",
      "Feature                HOG\n",
      "Classifier             SVM\n",
      "Accuracy            0.7175\n",
      "Train Time        1.145964\n",
      "Inference Time    0.094747\n",
      "Name: 1, dtype: object\n",
      "\n",
      "Fastest Inference Configuration:\n",
      "Feature                          HOG\n",
      "Classifier        LogisticRegression\n",
      "Accuracy                      0.6525\n",
      "Train Time                  0.675167\n",
      "Inference Time                   0.0\n",
      "Name: 0, dtype: object\n"
     ]
    },
    {
     "name": "stderr",
     "output_type": "stream",
     "text": [
      "C:\\Users\\benzo\\AppData\\Local\\Temp\\ipykernel_5140\\1669950379.py:20: FutureWarning: The frame.append method is deprecated and will be removed from pandas in a future version. Use pandas.concat instead.\n",
      "  results_df = results_df.append(result, ignore_index=True)\n"
     ]
    }
   ],
   "source": [
    "# Initialize results DataFrame\n",
    "results_df = pd.DataFrame(columns=['Feature', 'Classifier', 'Accuracy', 'Train Time', 'Inference Time'])\n",
    "\n",
    "# Evaluate classifiers on HOG features\n",
    "print(\"\\n--- Evaluating on HOG Features ---\")\n",
    "for clf_name in ['LogisticRegression', 'SVM']:\n",
    "    result = evaluate_classifier(train_hog_pca, test_hog_pca, y_train, y_test, clf_name, 'HOG')\n",
    "    results_df = results_df.append(result, ignore_index=True)\n",
    "\n",
    "# Evaluate classifiers on HSV features\n",
    "print(\"\\n--- Evaluating on HSV Features ---\")\n",
    "for clf_name in ['LogisticRegression', 'SVM']:\n",
    "    result = evaluate_classifier(train_hsv_pca, test_hsv_pca, y_train, y_test, clf_name, 'HSV')\n",
    "    results_df = results_df.append(result, ignore_index=True)\n",
    "\n",
    "# Evaluate classifiers on ResNet features\n",
    "print(\"\\n--- Evaluating on ResNet Features ---\")\n",
    "for clf_name in ['LogisticRegression', 'SVM']:\n",
    "    result = evaluate_classifier(train_resnet_pca, test_resnet_pca, y_train, y_test, clf_name, 'ResNet')\n",
    "    results_df = results_df.append(result, ignore_index=True)\n",
    "\n",
    "# Display the results\n",
    "print(\"\\n--- Summary of Results ---\")\n",
    "print(results_df)\n",
    "\n",
    "# Identify the best performing and fastest configurations\n",
    "best_accuracy = results_df.loc[results_df['Accuracy'].idxmax()]\n",
    "fastest_inference = results_df.loc[results_df['Inference Time'].idxmin()]\n",
    "\n",
    "print(\"\\nBest Performing Configuration:\")\n",
    "print(best_accuracy)\n",
    "\n",
    "print(\"\\nFastest Inference Configuration:\")\n",
    "print(fastest_inference)"
   ]
  },
  {
   "cell_type": "code",
   "execution_count": 20,
   "metadata": {},
   "outputs": [
    {
     "name": "stdout",
     "output_type": "stream",
     "text": [
      "\n",
      "--- Extracting Features ---\n"
     ]
    },
    {
     "name": "stderr",
     "output_type": "stream",
     "text": [
      "Extracting HOG features: 100%|██████████| 14034/14034 [01:56<00:00, 120.46it/s]\n",
      "Extracting HOG features: 100%|██████████| 3000/3000 [00:24<00:00, 124.40it/s]\n",
      "Extracting HSV features: 100%|██████████| 14034/14034 [01:05<00:00, 214.28it/s]\n",
      "Extracting HSV features: 100%|██████████| 3000/3000 [00:14<00:00, 202.49it/s]\n"
     ]
    },
    {
     "name": "stdout",
     "output_type": "stream",
     "text": [
      "\u001b[1m439/439\u001b[0m \u001b[32m━━━━━━━━━━━━━━━━━━━━\u001b[0m\u001b[37m\u001b[0m \u001b[1m225s\u001b[0m 507ms/step\n",
      "\u001b[1m94/94\u001b[0m \u001b[32m━━━━━━━━━━━━━━━━━━━━\u001b[0m\u001b[37m\u001b[0m \u001b[1m46s\u001b[0m 469ms/step\n",
      "\n",
      "--- Combining Features ---\n",
      "Combined Feature Shape (Train): (14034, 278)\n",
      "Combined Feature Shape (Test): (3000, 278)\n",
      "\n",
      "--- Training Classifiers on Combined Features ---\n"
     ]
    },
    {
     "name": "stderr",
     "output_type": "stream",
     "text": [
      "C:\\Users\\benzo\\AppData\\Local\\Packages\\PythonSoftwareFoundation.Python.3.11_qbz5n2kfra8p0\\LocalCache\\local-packages\\Python311\\site-packages\\sklearn\\linear_model\\_logistic.py:460: ConvergenceWarning: lbfgs failed to converge (status=1):\n",
      "STOP: TOTAL NO. of ITERATIONS REACHED LIMIT.\n",
      "\n",
      "Increase the number of iterations (max_iter) or scale the data as shown in:\n",
      "    https://scikit-learn.org/stable/modules/preprocessing.html\n",
      "Please also refer to the documentation for alternative solver options:\n",
      "    https://scikit-learn.org/stable/modules/linear_model.html#logistic-regression\n",
      "  n_iter_i = _check_optimize_result(\n",
      "C:\\Users\\benzo\\AppData\\Local\\Temp\\ipykernel_5140\\633699021.py:35: FutureWarning: The frame.append method is deprecated and will be removed from pandas in a future version. Use pandas.concat instead.\n",
      "  results_df = results_df.append(result, ignore_index=True)\n"
     ]
    },
    {
     "name": "stdout",
     "output_type": "stream",
     "text": [
      "Feature: Combined, Classifier: LogisticRegression, Accuracy: 0.7847, Train Time: 9.56s, Inference Time: 0.00s\n",
      "Feature: Combined, Classifier: SVM, Accuracy: 0.8173, Train Time: 86.71s, Inference Time: 7.80s\n",
      "\n",
      "--- Summary of Results for Combined Features ---\n",
      "    Feature          Classifier  Accuracy  Train Time  Inference Time\n",
      "0  Combined  LogisticRegression  0.784667    9.564425        0.002992\n",
      "1  Combined                 SVM  0.817333   86.709176        7.802112\n",
      "\n",
      "Best Performing Configuration:\n",
      "Feature            Combined\n",
      "Classifier              SVM\n",
      "Accuracy           0.817333\n",
      "Train Time        86.709176\n",
      "Inference Time     7.802112\n",
      "Name: 1, dtype: object\n",
      "\n",
      "Fastest Inference Configuration:\n",
      "Feature                     Combined\n",
      "Classifier        LogisticRegression\n",
      "Accuracy                    0.784667\n",
      "Train Time                  9.564425\n",
      "Inference Time              0.002992\n",
      "Name: 0, dtype: object\n"
     ]
    },
    {
     "name": "stderr",
     "output_type": "stream",
     "text": [
      "C:\\Users\\benzo\\AppData\\Local\\Temp\\ipykernel_5140\\633699021.py:35: FutureWarning: The frame.append method is deprecated and will be removed from pandas in a future version. Use pandas.concat instead.\n",
      "  results_df = results_df.append(result, ignore_index=True)\n"
     ]
    }
   ],
   "source": [
    "# Combine Features into a Single Matrix\n",
    "def combine_features(hog_features, hsv_features, resnet_features):\n",
    "    return np.hstack((hog_features, hsv_features, resnet_features))\n",
    "\n",
    "# Extract Features (as done earlier)\n",
    "print(\"\\n--- Extracting Features ---\")\n",
    "train_hog = extract_hog_features(train_images)\n",
    "test_hog = extract_hog_features(test_images)\n",
    "\n",
    "train_hsv = extract_hsv_features(train_images)\n",
    "test_hsv = extract_hsv_features(test_images)\n",
    "\n",
    "train_resnet = extract_resnet_features(train_images)\n",
    "test_resnet = extract_resnet_features(test_images)\n",
    "\n",
    "# Optional: Apply PCA to reduce dimensions of each feature set\n",
    "train_hog_pca, test_hog_pca = process_features(train_hog, test_hog, n_components=100)\n",
    "train_hsv_pca, test_hsv_pca = process_features(train_hsv, test_hsv, n_components=50)\n",
    "train_resnet_pca, test_resnet_pca = process_features(train_resnet, test_resnet, n_components=128)\n",
    "\n",
    "# Combine Features\n",
    "print(\"\\n--- Combining Features ---\")\n",
    "train_combined = combine_features(train_hog_pca, train_hsv_pca, train_resnet_pca)\n",
    "test_combined = combine_features(test_hog_pca, test_hsv_pca, test_resnet_pca)\n",
    "\n",
    "print(f\"Combined Feature Shape (Train): {train_combined.shape}\")\n",
    "print(f\"Combined Feature Shape (Test): {test_combined.shape}\")\n",
    "\n",
    "# Train Classifiers on Combined Features\n",
    "print(\"\\n--- Training Classifiers on Combined Features ---\")\n",
    "results_df = pd.DataFrame(columns=['Feature', 'Classifier', 'Accuracy', 'Train Time', 'Inference Time'])\n",
    "\n",
    "for clf_name in ['LogisticRegression', 'SVM']:\n",
    "    result = evaluate_classifier(train_combined, test_combined, train_labels, test_labels, clf_name, 'Combined')\n",
    "    results_df = results_df.append(result, ignore_index=True)\n",
    "\n",
    "# Display Results\n",
    "print(\"\\n--- Summary of Results for Combined Features ---\")\n",
    "print(results_df)\n",
    "\n",
    "# Identify the Best and Fastest Configurations\n",
    "best_accuracy = results_df.loc[results_df['Accuracy'].idxmax()]\n",
    "fastest_inference = results_df.loc[results_df['Inference Time'].idxmin()]\n",
    "\n",
    "print(\"\\nBest Performing Configuration:\")\n",
    "print(best_accuracy)\n",
    "\n",
    "print(\"\\nFastest Inference Configuration:\")\n",
    "print(fastest_inference)\n"
   ]
  },
  {
   "cell_type": "markdown",
   "metadata": {},
   "source": [
    "## PCA & SVM"
   ]
  },
  {
   "cell_type": "code",
   "execution_count": 21,
   "metadata": {},
   "outputs": [],
   "source": [
    "# Flatten the data for Random Forest & SVM\n",
    "X_train_flat = train_images.reshape(len(train_images), -1)\n",
    "X_test_flat = test_images.reshape(len(test_images), -1)\n",
    "y_train_trad = train_labels\n",
    "y_test_trad = test_labels\n",
    "\n",
    "# Create train/validation splits\n",
    "X_train_ml, X_val_ml, y_train_ml, y_val_ml = train_test_split(\n",
    "    X_train_flat,\n",
    "    y_train_trad,\n",
    "    test_size=0.2,\n",
    "    random_state=42\n",
    ")"
   ]
  },
  {
   "cell_type": "markdown",
   "metadata": {},
   "source": []
  },
  {
   "cell_type": "code",
   "execution_count": 22,
   "metadata": {},
   "outputs": [
    {
     "data": {
      "text/plain": [
       "(14034,)"
      ]
     },
     "execution_count": 22,
     "metadata": {},
     "output_type": "execute_result"
    }
   ],
   "source": [
    "y_train_trad.shape"
   ]
  },
  {
   "cell_type": "code",
   "execution_count": 23,
   "metadata": {},
   "outputs": [
    {
     "data": {
      "text/plain": [
       "(11227,)"
      ]
     },
     "execution_count": 23,
     "metadata": {},
     "output_type": "execute_result"
    }
   ],
   "source": [
    "y_train_ml.shape"
   ]
  },
  {
   "cell_type": "code",
   "execution_count": 24,
   "metadata": {},
   "outputs": [
    {
     "data": {
      "text/plain": [
       "127190"
      ]
     },
     "execution_count": 24,
     "metadata": {},
     "output_type": "execute_result"
    }
   ],
   "source": [
    "gc.collect()"
   ]
  },
  {
   "cell_type": "code",
   "execution_count": 25,
   "metadata": {},
   "outputs": [
    {
     "name": "stdout",
     "output_type": "stream",
     "text": [
      "Computing mean and variance in batches...\n",
      "Processed 0/11227 samples\n",
      "Processed 2000/11227 samples\n",
      "Processed 4000/11227 samples\n",
      "Processed 6000/11227 samples\n",
      "Processed 8000/11227 samples\n",
      "Processed 10000/11227 samples\n"
     ]
    }
   ],
   "source": [
    "# Define batch size\n",
    "batch_size = 500\n",
    "n_samples, n_features = X_train_ml.shape\n",
    "\n",
    "# First pass: Compute mean and variance for StandardScaler\n",
    "mean_sum = np.zeros(n_features, dtype=np.float32)\n",
    "var_sum = np.zeros(n_features, dtype=np.float32)\n",
    "n_total = 0\n",
    "\n",
    "print(\"Computing mean and variance in batches...\")\n",
    "for i in range(0, n_samples, batch_size):\n",
    "    end = min(i + batch_size, n_samples)\n",
    "    batch = X_train_ml[i:end].astype(np.float32)\n",
    "    \n",
    "    # Update mean and variance sums\n",
    "    mean_sum += np.sum(batch, axis=0)\n",
    "    var_sum += np.sum(np.square(batch), axis=0)\n",
    "    n_total += batch.shape[0]\n",
    "    \n",
    "    if i % 2000 == 0:\n",
    "        print(f\"Processed {i}/{n_samples} samples\")\n",
    "\n",
    "# Calculate final mean and variance\n",
    "mean = mean_sum / n_total\n",
    "variance = (var_sum / n_total) - np.square(mean)\n",
    "scale = np.sqrt(variance)"
   ]
  },
  {
   "cell_type": "code",
   "execution_count": 26,
   "metadata": {},
   "outputs": [
    {
     "name": "stdout",
     "output_type": "stream",
     "text": [
      "Performing incremental PCA...\n",
      "Fitted PCA on 0/11227 samples\n",
      "Fitted PCA on 2000/11227 samples\n",
      "Fitted PCA on 4000/11227 samples\n",
      "Fitted PCA on 6000/11227 samples\n",
      "Fitted PCA on 8000/11227 samples\n",
      "Fitted PCA on 10000/11227 samples\n",
      "Skipping final incomplete batch of size 227 (smaller than n_components=500)\n",
      "IPCA fitting complete!\n"
     ]
    }
   ],
   "source": [
    "# Initialize IPCA\n",
    "print(\"Performing incremental PCA...\")\n",
    "n_components = 500\n",
    "ipca = IncrementalPCA(n_components=n_components, batch_size=batch_size)\n",
    "\n",
    "for i in range(0, n_samples, batch_size):\n",
    "    end = min(i + batch_size, n_samples)\n",
    "    batch = X_train_ml[i:end].astype(np.float32)\n",
    "    current_batch_size = end - i\n",
    "    \n",
    "    # Scale the batch manually\n",
    "    batch_scaled = (batch - mean) / scale\n",
    "    \n",
    "    # Only try to fit if batch is large enough\n",
    "    if current_batch_size >= n_components:\n",
    "        ipca.partial_fit(batch_scaled)\n",
    "        if i % 2000 == 0:\n",
    "            print(f\"Fitted PCA on {i}/{n_samples} samples\")\n",
    "    else:\n",
    "        print(f\"Skipping final incomplete batch of size {current_batch_size} (smaller than n_components={n_components})\")\n",
    "\n",
    "print(\"IPCA fitting complete!\")"
   ]
  },
  {
   "cell_type": "code",
   "execution_count": 27,
   "metadata": {},
   "outputs": [
    {
     "name": "stdout",
     "output_type": "stream",
     "text": [
      "Transforming data...\n",
      "Transformed 0/11227 samples\n",
      "Transformed 2000/11227 samples\n",
      "Transformed 4000/11227 samples\n",
      "Transformed 6000/11227 samples\n",
      "Transformed 8000/11227 samples\n",
      "Transformed 10000/11227 samples\n",
      "Final reduced data shape: (11227, 500)\n"
     ]
    }
   ],
   "source": [
    "# Third pass: Transform data in batches and train classifier\n",
    "X_train_transformed = np.zeros((n_samples, n_components), dtype=np.float32)\n",
    "\n",
    "print(\"Transforming data...\")\n",
    "for i in range(0, n_samples, batch_size):\n",
    "    end = min(i + batch_size, n_samples)\n",
    "    batch = X_train_ml[i:end].astype(np.float32)\n",
    "    \n",
    "    # Scale and transform batch\n",
    "    batch_scaled = (batch - mean) / scale\n",
    "    X_train_transformed[i:end] = ipca.transform(batch_scaled)\n",
    "    \n",
    "    if i % 2000 == 0:\n",
    "        print(f\"Transformed {i}/{n_samples} samples\")\n",
    "\n",
    "print(\"Final reduced data shape:\", X_train_transformed.shape)"
   ]
  },
  {
   "cell_type": "code",
   "execution_count": 28,
   "metadata": {},
   "outputs": [
    {
     "data": {
      "text/plain": [
       "0"
      ]
     },
     "execution_count": 28,
     "metadata": {},
     "output_type": "execute_result"
    }
   ],
   "source": [
    "# Free memory\n",
    "del X_train_flat\n",
    "gc.collect()"
   ]
  },
  {
   "cell_type": "code",
   "execution_count": 29,
   "metadata": {},
   "outputs": [
    {
     "name": "stdout",
     "output_type": "stream",
     "text": [
      "Transforming validation data...\n",
      "Transformed 0/2807 validation samples\n",
      "Transformed 2000/2807 validation samples\n",
      "Validation data transformation complete!\n",
      "Validation data reduced shape: (2807, 500)\n"
     ]
    }
   ],
   "source": [
    "# Transform Validation Data\n",
    "print(\"Transforming validation data...\")\n",
    "n_val_samples = X_val_ml.shape[0]\n",
    "X_val_transformed = np.zeros((n_val_samples, n_components), dtype=np.float32)\n",
    "\n",
    "for i in range(0, n_val_samples, batch_size):\n",
    "    end = min(i + batch_size, n_val_samples)\n",
    "    batch = X_val_ml[i:end].astype(np.float32)\n",
    "    \n",
    "    # Scale and transform batch using already computed mean/scale\n",
    "    batch_scaled = (batch - mean) / scale\n",
    "    X_val_transformed[i:end] = ipca.transform(batch_scaled)\n",
    "    \n",
    "    if i % 2000 == 0:\n",
    "        print(f\"Transformed {i}/{n_val_samples} validation samples\")\n",
    "\n",
    "print(\"Validation data transformation complete!\")\n",
    "print(\"Validation data reduced shape:\", X_val_transformed.shape)"
   ]
  },
  {
   "cell_type": "code",
   "execution_count": 30,
   "metadata": {},
   "outputs": [
    {
     "name": "stdout",
     "output_type": "stream",
     "text": [
      "Transforming test data...\n",
      "Transformed 0/3000 test samples\n",
      "Transformed 2000/3000 test samples\n",
      "Test data transformation complete!\n",
      "Test data reduced shape: (3000, 500)\n"
     ]
    }
   ],
   "source": [
    "# Transform Test Data\n",
    "print(\"Transforming test data...\")\n",
    "n_test_samples = X_test_flat.shape[0]\n",
    "X_test_transformed = np.zeros((n_test_samples, n_components), dtype=np.float32)\n",
    "\n",
    "for i in range(0, n_test_samples, batch_size):\n",
    "    end = min(i + batch_size, n_test_samples)\n",
    "    batch = X_test_flat[i:end].astype(np.float32)\n",
    "    \n",
    "    # Scale and transform batch using already computed mean/scale\n",
    "    batch_scaled = (batch - mean) / scale\n",
    "    X_test_transformed[i:end] = ipca.transform(batch_scaled)\n",
    "    \n",
    "    if i % 2000 == 0:\n",
    "        print(f\"Transformed {i}/{n_test_samples} test samples\")\n",
    "\n",
    "print(\"Test data transformation complete!\")\n",
    "print(\"Test data reduced shape:\", X_test_transformed.shape)"
   ]
  },
  {
   "cell_type": "code",
   "execution_count": 31,
   "metadata": {},
   "outputs": [],
   "source": [
    "# Now we will standardize all 3 data sets\n",
    "\n",
    "scaler = StandardScaler()\n",
    "\n",
    "# Fit scaler on training data\n",
    "X_train_transformed_scaled = scaler.fit_transform(X_train_transformed)\n",
    "\n",
    "# Transform validation and test data using same scaler\n",
    "X_val_transformed_scaled = scaler.transform(X_val_transformed)\n",
    "X_test_transformed_scaled = scaler.transform(X_test_transformed)"
   ]
  },
  {
   "cell_type": "code",
   "execution_count": 32,
   "metadata": {},
   "outputs": [
    {
     "name": "stdout",
     "output_type": "stream",
     "text": [
      "Fitting 3 folds for each of 8 candidates, totalling 24 fits\n",
      "Best parameters: {'C': 1, 'gamma': 'auto', 'kernel': 'rbf'}\n",
      "Best cross-validation score: 0.5733509606315897\n",
      "Validation set score: 0.6049162807267545\n"
     ]
    }
   ],
   "source": [
    "param_grid = {\n",
    "    'C': [0.1, 1, 10, 100],\n",
    "    'gamma': ['scale', 'auto'],\n",
    "    'kernel': ['rbf']\n",
    "}\n",
    "\n",
    "svc = SVC(random_state=42, probability=True)\n",
    "grid_search = GridSearchCV(\n",
    "    estimator=svc,\n",
    "    param_grid=param_grid,\n",
    "    cv=3,  # Use 3-fold CV to save memory\n",
    "    n_jobs=-1,  # Use all CPU cores\n",
    "    verbose=2,\n",
    "    scoring='accuracy'\n",
    ")\n",
    "\n",
    "# Fit on training data\n",
    "grid_search.fit(X_train_transformed_scaled, y_train_ml)\n",
    "\n",
    "# Evaluate on validation data\n",
    "val_score = grid_search.score(X_val_transformed_scaled, y_val_ml)\n",
    "\n",
    "print(\"Best parameters:\", grid_search.best_params_)\n",
    "print(\"Best cross-validation score:\", grid_search.best_score_)\n",
    "print(\"Validation set score:\", val_score)\n",
    "\n",
    "# Save best model\n",
    "best_model = grid_search.best_estimator_"
   ]
  },
  {
   "cell_type": "code",
   "execution_count": 33,
   "metadata": {},
   "outputs": [
    {
     "name": "stdout",
     "output_type": "stream",
     "text": [
      "\n",
      "All scores:\n",
      "Parameters: {'C': 0.1, 'gamma': 'scale', 'kernel': 'rbf'}\n",
      "Mean score: 0.4033 (±0.0083)\n",
      "\n",
      "Parameters: {'C': 0.1, 'gamma': 'auto', 'kernel': 'rbf'}\n",
      "Mean score: 0.4029 (±0.0088)\n",
      "\n",
      "Parameters: {'C': 1, 'gamma': 'scale', 'kernel': 'rbf'}\n",
      "Mean score: 0.5725 (±0.0082)\n",
      "\n",
      "Parameters: {'C': 1, 'gamma': 'auto', 'kernel': 'rbf'}\n",
      "Mean score: 0.5734 (±0.0082)\n",
      "\n",
      "Parameters: {'C': 10, 'gamma': 'scale', 'kernel': 'rbf'}\n",
      "Mean score: 0.5677 (±0.0060)\n",
      "\n",
      "Parameters: {'C': 10, 'gamma': 'auto', 'kernel': 'rbf'}\n",
      "Mean score: 0.5693 (±0.0057)\n",
      "\n",
      "Parameters: {'C': 100, 'gamma': 'scale', 'kernel': 'rbf'}\n",
      "Mean score: 0.5525 (±0.0063)\n",
      "\n",
      "Parameters: {'C': 100, 'gamma': 'auto', 'kernel': 'rbf'}\n",
      "Mean score: 0.5526 (±0.0066)\n",
      "\n",
      "\n",
      "Class distribution:\n",
      "Class 0: 2191 samples (15.61%)\n",
      "Class 1: 2271 samples (16.18%)\n",
      "Class 2: 2404 samples (17.13%)\n",
      "Class 3: 2512 samples (17.90%)\n",
      "Class 4: 2274 samples (16.20%)\n",
      "Class 5: 2382 samples (16.97%)\n"
     ]
    }
   ],
   "source": [
    "# Print all scores\n",
    "print(\"\\nAll scores:\")\n",
    "means = grid_search.cv_results_['mean_test_score']\n",
    "stds = grid_search.cv_results_['std_test_score']\n",
    "params = grid_search.cv_results_['params']\n",
    "for mean, std, params in zip(means, stds, params):\n",
    "    print(f\"Parameters: {params}\")\n",
    "    print(f\"Mean score: {mean:.4f} (±{std:.4f})\\n\")\n",
    "\n",
    "# Check class distribution\n",
    "unique, counts = np.unique(y_train_trad, return_counts=True)\n",
    "print(\"\\nClass distribution:\")\n",
    "for class_label, count in zip(unique, counts):\n",
    "    print(f\"Class {class_label}: {count} samples ({count/len(y_train_trad)*100:.2f}%)\")"
   ]
  },
  {
   "cell_type": "code",
   "execution_count": 34,
   "metadata": {},
   "outputs": [],
   "source": [
    "best_model = grid_search.best_estimator_"
   ]
  },
  {
   "cell_type": "code",
   "execution_count": 35,
   "metadata": {},
   "outputs": [
    {
     "name": "stdout",
     "output_type": "stream",
     "text": [
      "\n",
      "Validation accuracy: 0.6049\n",
      "\n",
      "Validation Classification Report:\n",
      "              precision    recall  f1-score   support\n",
      "\n",
      "           0       0.57      0.49      0.53       450\n",
      "           1       0.82      0.74      0.78       472\n",
      "           2       0.57      0.65      0.61       455\n",
      "           3       0.58      0.66      0.62       515\n",
      "           4       0.52      0.44      0.48       485\n",
      "           5       0.59      0.64      0.62       430\n",
      "\n",
      "    accuracy                           0.60      2807\n",
      "   macro avg       0.61      0.60      0.60      2807\n",
      "weighted avg       0.61      0.60      0.60      2807\n",
      "\n",
      "\n",
      "Test accuracy: 0.5953\n",
      "\n",
      "Test Classification Report:\n",
      "              precision    recall  f1-score   support\n",
      "\n",
      "           0       0.52      0.46      0.49       437\n",
      "           1       0.79      0.70      0.74       474\n",
      "           2       0.56      0.61      0.58       553\n",
      "           3       0.58      0.70      0.63       525\n",
      "           4       0.55      0.40      0.46       510\n",
      "           5       0.59      0.68      0.63       501\n",
      "\n",
      "    accuracy                           0.60      3000\n",
      "   macro avg       0.60      0.59      0.59      3000\n",
      "weighted avg       0.60      0.60      0.59      3000\n",
      "\n"
     ]
    }
   ],
   "source": [
    "val_predictions = best_model.predict(X_val_transformed_scaled)\n",
    "val_accuracy = accuracy_score(y_val_ml, val_predictions)\n",
    "print(f\"\\nValidation accuracy: {val_accuracy:.4f}\")\n",
    "print(\"\\nValidation Classification Report:\")\n",
    "print(classification_report(y_val_ml, val_predictions))\n",
    "\n",
    "\n",
    "test_predictions = best_model.predict(X_test_transformed_scaled)\n",
    "test_accuracy = accuracy_score(y_test_trad, test_predictions)\n",
    "print(f\"\\nTest accuracy: {test_accuracy:.4f}\")\n",
    "print(\"\\nTest Classification Report:\")\n",
    "print(classification_report(y_test_trad, test_predictions))"
   ]
  },
  {
   "cell_type": "markdown",
   "metadata": {},
   "source": [
    "### SVM Confusion Matrix"
   ]
  },
  {
   "cell_type": "code",
   "execution_count": 36,
   "metadata": {},
   "outputs": [
    {
     "data": {
      "image/png": "[encoded data removed]",
      "text/plain": [
       "<Figure size 1200x1000 with 2 Axes>"
      ]
     },
     "metadata": {},
     "output_type": "display_data"
    }
   ],
   "source": [
    "class_names = ['buildings', 'forest', 'glacier', 'mountain', 'sea', 'street']\n",
    "cm = confusion_matrix(y_test_trad, test_predictions)\n",
    "\n",
    "plt.figure(figsize=(12, 10))\n",
    "\n",
    "# Create the heatmap\n",
    "sns.heatmap(cm,          \n",
    "            cmap='Blues',    \n",
    "            xticklabels=class_names,\n",
    "            yticklabels=class_names)  \n",
    "\n",
    "for i in range(cm.shape[0]):\n",
    "    for j in range(cm.shape[1]):\n",
    "        plt.text(j + 0.5, i + 0.5, str(cm[i, j]),\n",
    "                 ha='center', va='center',\n",
    "                 color='black')\n",
    "\n",
    "plt.title('Confusion Matrix for SVM Intel Image Classification')\n",
    "plt.ylabel('True Label')\n",
    "plt.xlabel('Predicted Label')\n",
    "plt.xticks(rotation=45)\n",
    "plt.yticks(rotation=45)\n",
    "plt.tight_layout()\n",
    "plt.show()"
   ]
  },
  {
   "cell_type": "markdown",
   "metadata": {},
   "source": [
    "### SVM ROC Curve"
   ]
  },
  {
   "cell_type": "code",
   "execution_count": 37,
   "metadata": {},
   "outputs": [
    {
     "data": {
      "image/png": "[encoded data removed]",
      "text/plain": [
       "<Figure size 1000x800 with 1 Axes>"
      ]
     },
     "metadata": {},
     "output_type": "display_data"
    }
   ],
   "source": [
    "# Get probability predictions using scaled data\n",
    "test_pred_proba = best_model.predict_proba(X_test_transformed_scaled)\n",
    "\n",
    "def plot_roc_curves(y_test, y_pred_proba, class_names):\n",
    "    # Get predictions with probabilities\n",
    "    plt.figure(figsize=(10, 8))\n",
    "    \n",
    "    # Calculate ROC curve for each class\n",
    "    for i in range(len(class_names)):\n",
    "        # Create binary labels for current class\n",
    "        y_bin = (y_test == i).astype(int)\n",
    "        \n",
    "        # Get probability scores for current class\n",
    "        y_score = y_pred_proba[:, i]\n",
    "        \n",
    "        # Calculate ROC curve\n",
    "        fpr, tpr, _ = roc_curve(y_bin, y_score)\n",
    "        roc_auc = auc(fpr, tpr)\n",
    "        \n",
    "        # Plot ROC curve\n",
    "        plt.plot(fpr, tpr, label=f'{class_names[i]} (AUC = {roc_auc:.2f})')\n",
    "    \n",
    "    plt.plot([0, 1], [0, 1], 'k--')  # diagonal line\n",
    "    plt.xlim([0.0, 1.0])\n",
    "    plt.ylim([0.0, 1.05])\n",
    "    plt.xlabel('False Positive Rate')\n",
    "    plt.ylabel('True Positive Rate')\n",
    "    plt.title('ROC Curves for Each Class')\n",
    "    plt.legend(loc=\"lower right\")\n",
    "    plt.show()\n",
    "\n",
    "# Then plot ROC curves\n",
    "plot_roc_curves(y_test_trad, test_pred_proba, class_names)"
   ]
  },
  {
   "cell_type": "markdown",
   "metadata": {},
   "source": [
    "## Random Forest"
   ]
  },
  {
   "cell_type": "code",
   "execution_count": 38,
   "metadata": {},
   "outputs": [
    {
     "name": "stdout",
     "output_type": "stream",
     "text": [
      "Training Random Forest Classifier...\n",
      "\n",
      "Random Forest Validation Results:\n",
      "              precision    recall  f1-score   support\n",
      "\n",
      "           0       0.56      0.45      0.50       450\n",
      "           1       0.72      0.83      0.77       472\n",
      "           2       0.56      0.62      0.59       455\n",
      "           3       0.57      0.63      0.60       515\n",
      "           4       0.54      0.43      0.48       485\n",
      "           5       0.61      0.63      0.62       430\n",
      "\n",
      "    accuracy                           0.60      2807\n",
      "   macro avg       0.59      0.60      0.59      2807\n",
      "weighted avg       0.59      0.60      0.59      2807\n",
      "\n",
      "Validation Accuracy: 0.599\n"
     ]
    }
   ],
   "source": [
    "# RandomForest Model\n",
    "print(\"Training Random Forest Classifier...\")\n",
    "rf = RandomForestClassifier(n_estimators=100, random_state=42)\n",
    "rf.fit(X_train_ml, y_train_ml)\n",
    "\n",
    "# Evaluate Random Forest on validation set\n",
    "rf_val_pred = rf.predict(X_val_ml)\n",
    "print(\"\\nRandom Forest Validation Results:\")\n",
    "print(classification_report(y_val_ml, rf_val_pred))\n",
    "print(f\"Validation Accuracy: {accuracy_score(y_val_ml, rf_val_pred):.3f}\")"
   ]
  },
  {
   "cell_type": "markdown",
   "metadata": {},
   "source": [
    "## CNN & ResNet"
   ]
  },
  {
   "cell_type": "code",
   "execution_count": 39,
   "metadata": {},
   "outputs": [],
   "source": [
    "# Convert labels to one-hot encoding for CNN/ResNet\n",
    "num_classes = len(np.unique(train_labels))\n",
    "train_labels_onehot = tf.keras.utils.to_categorical(train_labels, num_classes)\n",
    "test_labels_onehot = tf.keras.utils.to_categorical(test_labels, num_classes)\n",
    "\n",
    "# Create train/validation split for CNN/ResNet\n",
    "X_train, X_val, y_train, y_val = train_test_split(\n",
    "    train_images, \n",
    "    train_labels_onehot,\n",
    "    test_size=0.2,\n",
    "    random_state=42\n",
    ")"
   ]
  },
  {
   "cell_type": "code",
   "execution_count": 40,
   "metadata": {},
   "outputs": [
    {
     "name": "stdout",
     "output_type": "stream",
     "text": [
      "Epoch 1/10\n",
      "\u001b[1m351/351\u001b[0m \u001b[32m━━━━━━━━━━━━━━━━━━━━\u001b[0m\u001b[37m\u001b[0m \u001b[1m76s\u001b[0m 212ms/step - accuracy: 0.4866 - loss: 1.3082 - val_accuracy: 0.6530 - val_loss: 0.8703\n",
      "Epoch 2/10\n",
      "\u001b[1m351/351\u001b[0m \u001b[32m━━━━━━━━━━━━━━━━━━━━\u001b[0m\u001b[37m\u001b[0m \u001b[1m74s\u001b[0m 209ms/step - accuracy: 0.7194 - loss: 0.7367 - val_accuracy: 0.7823 - val_loss: 0.5819\n",
      "Epoch 3/10\n",
      "\u001b[1m351/351\u001b[0m \u001b[32m━━━━━━━━━━━━━━━━━━━━\u001b[0m\u001b[37m\u001b[0m \u001b[1m73s\u001b[0m 208ms/step - accuracy: 0.8071 - loss: 0.5271 - val_accuracy: 0.7848 - val_loss: 0.5641\n",
      "Epoch 4/10\n",
      "\u001b[1m351/351\u001b[0m \u001b[32m━━━━━━━━━━━━━━━━━━━━\u001b[0m\u001b[37m\u001b[0m \u001b[1m73s\u001b[0m 209ms/step - accuracy: 0.8712 - loss: 0.3719 - val_accuracy: 0.8041 - val_loss: 0.5485\n",
      "Epoch 5/10\n",
      "\u001b[1m351/351\u001b[0m \u001b[32m━━━━━━━━━━━━━━━━━━━━\u001b[0m\u001b[37m\u001b[0m \u001b[1m74s\u001b[0m 212ms/step - accuracy: 0.9084 - loss: 0.2548 - val_accuracy: 0.8051 - val_loss: 0.5954\n",
      "Epoch 6/10\n",
      "\u001b[1m351/351\u001b[0m \u001b[32m━━━━━━━━━━━━━━━━━━━━\u001b[0m\u001b[37m\u001b[0m \u001b[1m73s\u001b[0m 209ms/step - accuracy: 0.9382 - loss: 0.1811 - val_accuracy: 0.8062 - val_loss: 0.6816\n",
      "Epoch 7/10\n",
      "\u001b[1m351/351\u001b[0m \u001b[32m━━━━━━━━━━━━━━━━━━━━\u001b[0m\u001b[37m\u001b[0m \u001b[1m74s\u001b[0m 209ms/step - accuracy: 0.9625 - loss: 0.1067 - val_accuracy: 0.7948 - val_loss: 0.7977\n",
      "Epoch 8/10\n",
      "\u001b[1m351/351\u001b[0m \u001b[32m━━━━━━━━━━━━━━━━━━━━\u001b[0m\u001b[37m\u001b[0m \u001b[1m75s\u001b[0m 214ms/step - accuracy: 0.9760 - loss: 0.0741 - val_accuracy: 0.7934 - val_loss: 0.8620\n",
      "Epoch 9/10\n",
      "\u001b[1m351/351\u001b[0m \u001b[32m━━━━━━━━━━━━━━━━━━━━\u001b[0m\u001b[37m\u001b[0m \u001b[1m74s\u001b[0m 212ms/step - accuracy: 0.9825 - loss: 0.0552 - val_accuracy: 0.7927 - val_loss: 0.9424\n",
      "Epoch 10/10\n",
      "\u001b[1m351/351\u001b[0m \u001b[32m━━━━━━━━━━━━━━━━━━━━\u001b[0m\u001b[37m\u001b[0m \u001b[1m75s\u001b[0m 213ms/step - accuracy: 0.9888 - loss: 0.0428 - val_accuracy: 0.8009 - val_loss: 1.0171\n",
      "\u001b[1m94/94\u001b[0m \u001b[32m━━━━━━━━━━━━━━━━━━━━\u001b[0m\u001b[37m\u001b[0m \u001b[1m4s\u001b[0m 46ms/step - accuracy: 0.8107 - loss: 1.1436\n",
      "CNN Model Accuracy: 78.77%\n"
     ]
    }
   ],
   "source": [
    "# Define a CNN Model\n",
    "def create_cnn_model(input_shape, num_classes):\n",
    "    model = Sequential([\n",
    "        Input(shape=input_shape),\n",
    "        tf.keras.layers.Conv2D(32, (3, 3), activation='relu'),\n",
    "        tf.keras.layers.MaxPooling2D((2, 2)),\n",
    "        tf.keras.layers.Conv2D(64, (3, 3), activation='relu'),\n",
    "        tf.keras.layers.MaxPooling2D((2, 2)),\n",
    "        tf.keras.layers.Conv2D(128, (3, 3), activation='relu'),\n",
    "        tf.keras.layers.MaxPooling2D((2, 2)),\n",
    "        Flatten(),\n",
    "        Dense(128, activation='relu'),\n",
    "        Dense(num_classes, activation='softmax')\n",
    "    ])\n",
    "    return model\n",
    "\n",
    "# Compile the CNN model\n",
    "cnn_model = create_cnn_model((150, 150, 3), num_classes)\n",
    "cnn_model.compile(optimizer='adam', loss='categorical_crossentropy', metrics=['accuracy'])\n",
    "\n",
    "# Train the CNN Model\n",
    "cnn_history = cnn_model.fit(\n",
    "    X_train, y_train,\n",
    "    batch_size=32,\n",
    "    epochs=10,\n",
    "    validation_data=(X_val, y_val)\n",
    ")\n",
    "\n",
    "# Evaluate the CNN Model\n",
    "cnn_loss, cnn_accuracy = cnn_model.evaluate(test_images, test_labels_onehot)\n",
    "print(f\"CNN Model Accuracy: {cnn_accuracy * 100:.2f}%\")"
   ]
  },
  {
   "cell_type": "code",
   "execution_count": 41,
   "metadata": {},
   "outputs": [
    {
     "name": "stdout",
     "output_type": "stream",
     "text": [
      "Epoch 1/10\n",
      "\u001b[1m351/351\u001b[0m \u001b[32m━━━━━━━━━━━━━━━━━━━━\u001b[0m\u001b[37m\u001b[0m \u001b[1m320s\u001b[0m 896ms/step - accuracy: 0.3955 - loss: 3.2027 - val_accuracy: 0.5337 - val_loss: 1.0674\n",
      "Epoch 2/10\n",
      "\u001b[1m351/351\u001b[0m \u001b[32m━━━━━━━━━━━━━━━━━━━━\u001b[0m\u001b[37m\u001b[0m \u001b[1m312s\u001b[0m 889ms/step - accuracy: 0.6061 - loss: 0.9921 - val_accuracy: 0.6217 - val_loss: 0.9066\n",
      "Epoch 3/10\n",
      "\u001b[1m351/351\u001b[0m \u001b[32m━━━━━━━━━━━━━━━━━━━━\u001b[0m\u001b[37m\u001b[0m \u001b[1m317s\u001b[0m 904ms/step - accuracy: 0.6557 - loss: 0.8750 - val_accuracy: 0.6409 - val_loss: 0.8535\n",
      "Epoch 4/10\n",
      "\u001b[1m351/351\u001b[0m \u001b[32m━━━━━━━━━━━━━━━━━━━━\u001b[0m\u001b[37m\u001b[0m \u001b[1m318s\u001b[0m 907ms/step - accuracy: 0.6868 - loss: 0.8017 - val_accuracy: 0.5771 - val_loss: 1.0128\n",
      "Epoch 5/10\n",
      "\u001b[1m351/351\u001b[0m \u001b[32m━━━━━━━━━━━━━━━━━━━━\u001b[0m\u001b[37m\u001b[0m \u001b[1m316s\u001b[0m 901ms/step - accuracy: 0.7001 - loss: 0.7713 - val_accuracy: 0.7064 - val_loss: 0.7846\n",
      "Epoch 6/10\n",
      "\u001b[1m351/351\u001b[0m \u001b[32m━━━━━━━━━━━━━━━━━━━━\u001b[0m\u001b[37m\u001b[0m \u001b[1m316s\u001b[0m 899ms/step - accuracy: 0.7024 - loss: 0.7623 - val_accuracy: 0.7075 - val_loss: 0.7681\n",
      "Epoch 7/10\n",
      "\u001b[1m351/351\u001b[0m \u001b[32m━━━━━━━━━━━━━━━━━━━━\u001b[0m\u001b[37m\u001b[0m \u001b[1m312s\u001b[0m 890ms/step - accuracy: 0.7017 - loss: 0.7567 - val_accuracy: 0.6266 - val_loss: 0.8998\n",
      "Epoch 8/10\n",
      "\u001b[1m351/351\u001b[0m \u001b[32m━━━━━━━━━━━━━━━━━━━━\u001b[0m\u001b[37m\u001b[0m \u001b[1m313s\u001b[0m 892ms/step - accuracy: 0.6891 - loss: 0.7659 - val_accuracy: 0.6391 - val_loss: 0.8941\n",
      "Epoch 9/10\n",
      "\u001b[1m351/351\u001b[0m \u001b[32m━━━━━━━━━━━━━━━━━━━━\u001b[0m\u001b[37m\u001b[0m \u001b[1m313s\u001b[0m 892ms/step - accuracy: 0.7058 - loss: 0.7528 - val_accuracy: 0.7196 - val_loss: 0.7237\n",
      "Epoch 10/10\n",
      "\u001b[1m351/351\u001b[0m \u001b[32m━━━━━━━━━━━━━━━━━━━━\u001b[0m\u001b[37m\u001b[0m \u001b[1m311s\u001b[0m 888ms/step - accuracy: 0.7333 - loss: 0.6838 - val_accuracy: 0.7118 - val_loss: 0.7357\n",
      "\u001b[1m94/94\u001b[0m \u001b[32m━━━━━━━━━━━━━━━━━━━━\u001b[0m\u001b[37m\u001b[0m \u001b[1m43s\u001b[0m 461ms/step - accuracy: 0.6875 - loss: 0.8239\n",
      "ResNet50 Model Accuracy: 71.50%\n"
     ]
    }
   ],
   "source": [
    "# ResNet50 Transfer Learning Model\n",
    "base_model = ResNet50(weights='imagenet', include_top=False, input_shape=(150, 150, 3))\n",
    "x = base_model.output\n",
    "x = Flatten()(x)\n",
    "x = Dense(1024, activation='relu')(x)\n",
    "output = Dense(num_classes, activation='softmax')(x)\n",
    "\n",
    "resnet_model = Model(inputs=base_model.input, outputs=output)\n",
    "\n",
    "# Freeze the base model layers\n",
    "for layer in base_model.layers:\n",
    "    layer.trainable = False\n",
    "\n",
    "# Compile the ResNet model\n",
    "resnet_model.compile(optimizer='adam', loss='categorical_crossentropy', metrics=['accuracy'])\n",
    "\n",
    "# Train the ResNet Model\n",
    "resnet_history = resnet_model.fit(\n",
    "    X_train, y_train,\n",
    "    batch_size=32,\n",
    "    epochs=10,\n",
    "    validation_data=(X_val, y_val)\n",
    ")\n",
    "\n",
    "# Evaluate the ResNet Model\n",
    "resnet_loss, resnet_accuracy = resnet_model.evaluate(test_images, test_labels_onehot)\n",
    "print(f\"ResNet50 Model Accuracy: {resnet_accuracy * 100:.2f}%\")"
   ]
  },
  {
   "cell_type": "markdown",
   "metadata": {},
   "source": [
    "## Random Forest vs. SVM vs. CNN vs. ResNet Evaluation"
   ]
  },
  {
   "cell_type": "code",
   "execution_count": 42,
   "metadata": {},
   "outputs": [
    {
     "name": "stdout",
     "output_type": "stream",
     "text": [
      "\n",
      "Model Performance Summary:\n"
     ]
    },
    {
     "ename": "NameError",
     "evalue": "name 'y_test_rf' is not defined",
     "output_type": "error",
     "traceback": [
      "\u001b[1;31m---------------------------------------------------------------------------\u001b[0m",
      "\u001b[1;31mNameError\u001b[0m                                 Traceback (most recent call last)",
      "\u001b[1;32mc:\\Users\\benzo\\repo\\w281\\w281_Fall2024_FinalProject_Brown_Benzoni_Olaya\\w281_Final_Project_pmb.ipynb Cell 54\u001b[0m line \u001b[0;36m3\n\u001b[0;32m      <a href='vscode-notebook-cell:/c%3A/Users/benzo/repo/w281/w281_Fall2024_FinalProject_Brown_Benzoni_Olaya/w281_Final_Project_pmb.ipynb#Y104sZmlsZQ%3D%3D?line=0'>1</a>\u001b[0m \u001b[39m# Summary of Model Performances\u001b[39;00m\n\u001b[0;32m      <a href='vscode-notebook-cell:/c%3A/Users/benzo/repo/w281/w281_Fall2024_FinalProject_Brown_Benzoni_Olaya/w281_Final_Project_pmb.ipynb#Y104sZmlsZQ%3D%3D?line=1'>2</a>\u001b[0m \u001b[39mprint\u001b[39m(\u001b[39m\"\u001b[39m\u001b[39m\\n\u001b[39;00m\u001b[39mModel Performance Summary:\u001b[39m\u001b[39m\"\u001b[39m)\n\u001b[1;32m----> <a href='vscode-notebook-cell:/c%3A/Users/benzo/repo/w281/w281_Fall2024_FinalProject_Brown_Benzoni_Olaya/w281_Final_Project_pmb.ipynb#Y104sZmlsZQ%3D%3D?line=2'>3</a>\u001b[0m \u001b[39mprint\u001b[39m(\u001b[39mf\u001b[39m\u001b[39m\"\u001b[39m\u001b[39mRandom Forest Model Accuracy: \u001b[39m\u001b[39m{\u001b[39;00maccuracy_score(y_test_rf,\u001b[39m \u001b[39my_pred_rf)\u001b[39m \u001b[39m\u001b[39m*\u001b[39m\u001b[39m \u001b[39m\u001b[39m100\u001b[39m\u001b[39m:\u001b[39;00m\u001b[39m.2f\u001b[39m\u001b[39m}\u001b[39;00m\u001b[39m%\u001b[39m\u001b[39m\"\u001b[39m)\n\u001b[0;32m      <a href='vscode-notebook-cell:/c%3A/Users/benzo/repo/w281/w281_Fall2024_FinalProject_Brown_Benzoni_Olaya/w281_Final_Project_pmb.ipynb#Y104sZmlsZQ%3D%3D?line=3'>4</a>\u001b[0m \u001b[39mprint\u001b[39m(\u001b[39mf\u001b[39m\u001b[39m\"\u001b[39m\u001b[39mCNN Model Accuracy: \u001b[39m\u001b[39m{\u001b[39;00mcnn_accuracy\u001b[39m \u001b[39m\u001b[39m*\u001b[39m\u001b[39m \u001b[39m\u001b[39m100\u001b[39m\u001b[39m:\u001b[39;00m\u001b[39m.2f\u001b[39m\u001b[39m}\u001b[39;00m\u001b[39m%\u001b[39m\u001b[39m\"\u001b[39m)\n\u001b[0;32m      <a href='vscode-notebook-cell:/c%3A/Users/benzo/repo/w281/w281_Fall2024_FinalProject_Brown_Benzoni_Olaya/w281_Final_Project_pmb.ipynb#Y104sZmlsZQ%3D%3D?line=4'>5</a>\u001b[0m \u001b[39mprint\u001b[39m(\u001b[39mf\u001b[39m\u001b[39m\"\u001b[39m\u001b[39mResNet50 Model Accuracy: \u001b[39m\u001b[39m{\u001b[39;00mresnet_accuracy\u001b[39m \u001b[39m\u001b[39m*\u001b[39m\u001b[39m \u001b[39m\u001b[39m100\u001b[39m\u001b[39m:\u001b[39;00m\u001b[39m.2f\u001b[39m\u001b[39m}\u001b[39;00m\u001b[39m%\u001b[39m\u001b[39m\"\u001b[39m)\n",
      "\u001b[1;31mNameError\u001b[0m: name 'y_test_rf' is not defined"
     ]
    }
   ],
   "source": [
    "# Summary of Model Performances\n",
    "print(\"\\nModel Performance Summary:\")\n",
    "print(f\"Random Forest Model Accuracy: {accuracy_score(y_test_rf, y_pred_rf) * 100:.2f}%\")\n",
    "print(f\"CNN Model Accuracy: {cnn_accuracy * 100:.2f}%\")\n",
    "print(f\"ResNet50 Model Accuracy: {resnet_accuracy * 100:.2f}%\")"
   ]
  },
  {
   "cell_type": "code",
   "execution_count": null,
   "metadata": {},
   "outputs": [],
   "source": []
  }
 ],
 "metadata": {
  "colab": {
   "provenance": []
  },
  "kernelspec": {
   "display_name": "Python 3",
   "language": "python",
   "name": "python3"
  },
  "language_info": {
   "codemirror_mode": {
    "name": "ipython",
    "version": 3
   },
   "file_extension": ".py",
   "mimetype": "text/x-python",
   "name": "python",
   "nbconvert_exporter": "python",
   "pygments_lexer": "ipython3",
   "version": "3.11.9"
  }
 },
 "nbformat": 4,
 "nbformat_minor": 0
}
